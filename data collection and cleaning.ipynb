{
 "cells": [
  {
   "cell_type": "code",
   "execution_count": null,
   "id": "d24a00fa",
   "metadata": {},
   "outputs": [],
   "source": [
    "#google :\"early stage diabetes risk prediction dataset\""
   ]
  },
  {
   "cell_type": "code",
   "execution_count": null,
   "id": "74aaacc3",
   "metadata": {},
   "outputs": [],
   "source": [
    "import pandas as pd"
   ]
  },
  {
   "cell_type": "code",
   "execution_count": null,
   "id": "5c4226b4",
   "metadata": {},
   "outputs": [],
   "source": [
    "#read the csv into a datafream\n",
    "df=pd.read_csv(\"diabetes_data_upload.csv\")\n",
    "df"
   ]
  },
  {
   "cell_type": "code",
   "execution_count": null,
   "id": "33c3af0d",
   "metadata": {},
   "outputs": [],
   "source": [
    "#replace the value in datafream with .replace\n",
    "df=df.replace(\"No\",0)\n",
    "df=df.replace(\"Yes\",1)\n",
    "df=df.replace(\"Positive\",1)\n",
    "df=df.replace(\"Negative\",0)\n",
    "\n",
    "\n",
    "# we'll consider gender column as isMale\n",
    "df=df.replace(\"Male\",1)\n",
    "df=df.replace(\"Female\",0)\n",
    "df"
   ]
  },
  {
   "cell_type": "code",
   "execution_count": null,
   "id": "078bbb35",
   "metadata": {},
   "outputs": [],
   "source": [
    "# check for missing values\n",
    "df.isnull().sum()"
   ]
  },
  {
   "cell_type": "code",
   "execution_count": null,
   "id": "780c7e1e",
   "metadata": {},
   "outputs": [],
   "source": [
    "# check the dtype of the column\n",
    "df.dtypes"
   ]
  },
  {
   "cell_type": "code",
   "execution_count": null,
   "id": "0adc1c73",
   "metadata": {},
   "outputs": [],
   "source": [
    "# rename the column\n",
    "replace ={\"Gender\": \"ismale\"}\n",
    "df=df.rename(columns=replace)\n",
    "df\n",
    "# replace lower case everything\n",
    "#df.columns.str.lower()"
   ]
  },
  {
   "cell_type": "code",
   "execution_count": null,
   "id": "8a58b1b3",
   "metadata": {},
   "outputs": [],
   "source": [
    "# lower case everythings in columns\n",
    "df.columns=df.columns.str.lower()\n",
    "df"
   ]
  },
  {
   "cell_type": "code",
   "execution_count": null,
   "id": "d33a1538",
   "metadata": {},
   "outputs": [],
   "source": [
    "# export datafream to csv\n",
    "df.to_csv(\"diabetes_data_clean.csv\",index=None)"
   ]
  },
  {
   "cell_type": "code",
   "execution_count": null,
   "id": "21033d24",
   "metadata": {},
   "outputs": [],
   "source": [
    "pd.read_csv(\"diabetes_data_clean.csv\")"
   ]
  },
  {
   "cell_type": "code",
   "execution_count": null,
   "id": "5d05d0a6",
   "metadata": {},
   "outputs": [],
   "source": [
    "# Summary\n",
    "#1.collect the data from UCI Repository\n",
    "#2. Replaced strings to 1 and 0\n",
    "#3. Replaced change column name and lower case everthing\n",
    "#4. Export the clean datafream to new CSV"
   ]
  }
 ],
 "metadata": {
  "interpreter": {
   "hash": "26de051ba29f2982a8de78e945f0abaf191376122a1563185a90213a26c5da77"
  },
  "kernelspec": {
   "display_name": "Python 3.10.4 64-bit",
   "language": "python",
   "name": "python3"
  },
  "language_info": {
   "codemirror_mode": {
    "name": "ipython",
    "version": 3
   },
   "file_extension": ".py",
   "mimetype": "text/x-python",
   "name": "python",
   "nbconvert_exporter": "python",
   "pygments_lexer": "ipython3",
   "version": "3.10.4"
  }
 },
 "nbformat": 4,
 "nbformat_minor": 5
}
